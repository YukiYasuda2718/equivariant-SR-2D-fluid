{
 "cells": [
  {
   "cell_type": "code",
   "execution_count": null,
   "id": "eba9615f-9941-4ab8-afee-295a275122f5",
   "metadata": {},
   "outputs": [],
   "source": [
    "%load_ext autoreload\n",
    "%autoreload 2\n",
    "%matplotlib inline"
   ]
  },
  {
   "cell_type": "code",
   "execution_count": null,
   "id": "2b09612f-90bb-4887-9a72-bcfd4f29e5f7",
   "metadata": {},
   "outputs": [],
   "source": [
    "import sys\n",
    "from logging import DEBUG, INFO, StreamHandler, getLogger\n",
    "\n",
    "logger = getLogger()\n",
    "log_handler = StreamHandler(sys.stdout)\n",
    "logger.addHandler(log_handler)\n",
    "logger.setLevel(DEBUG)"
   ]
  },
  {
   "cell_type": "markdown",
   "id": "9b272716-bd46-4928-96e9-1ba0d1edce1b",
   "metadata": {
    "tags": []
   },
   "source": [
    "# Import libraries"
   ]
  },
  {
   "cell_type": "code",
   "execution_count": null,
   "id": "c525d7f5-f909-4a69-8477-350ea5411a27",
   "metadata": {},
   "outputs": [],
   "source": [
    "ROOT_DIR = \"/workspace\"\n",
    "\n",
    "import matplotlib.pyplot as plt\n",
    "import numpy as np\n",
    "import yaml\n",
    "from IPython.display import HTML, display\n",
    "\n",
    "sys.path.append(f\"{ROOT_DIR}/pytorch/src\")\n",
    "\n",
    "from utils import set_seeds\n",
    "from velocity_dataloader import (\n",
    "    make_velocity_dataloaders_for_barotropic_instability_spectral_nudging,\n",
    ")\n",
    "from vortex_dataloader import make_vortex_dataloaders_for_barotropic_instability_spectral_nudging"
   ]
  },
  {
   "cell_type": "markdown",
   "id": "4abd83e5-4074-42f0-91cc-1bf8161a3586",
   "metadata": {
    "tags": []
   },
   "source": [
    "# Define constants"
   ]
  },
  {
   "cell_type": "code",
   "execution_count": null,
   "id": "588a28c6-7735-4602-b41c-95ae5d7a6ad4",
   "metadata": {},
   "outputs": [],
   "source": [
    "VORTICITY_DATA_DIR = (\n",
    "    f\"{ROOT_DIR}/data/pytorch/barotropic_instability_spectral_nudging/DL_data/vorticity\"\n",
    ")\n",
    "VELOCITY_DATA_DIR = (\n",
    "    f\"{ROOT_DIR}/data/pytorch/barotropic_instability_spectral_nudging/DL_data/velocity\"\n",
    ")\n",
    "CONFIG_DIR_NUDGE = (\n",
    "    f\"{ROOT_DIR}/pytorch/config/barotropic_instability_spectral_nudging/spectral_nudging\"\n",
    ")\n",
    "CONFIG_DIR_AVERAGE = f\"{ROOT_DIR}/pytorch/config/barotropic_instability_spectral_nudging/average\""
   ]
  },
  {
   "cell_type": "markdown",
   "id": "f21f124e-7c83-469e-8f04-c7b650af4764",
   "metadata": {},
   "source": [
    "# Deinfe methods"
   ]
  },
  {
   "cell_type": "code",
   "execution_count": null,
   "id": "10c050bd-def2-473a-a1c9-1682e941117f",
   "metadata": {},
   "outputs": [],
   "source": [
    "def read_yaml(path: str) -> dict:\n",
    "    with open(path) as file:\n",
    "        return yaml.safe_load(file)\n",
    "\n",
    "\n",
    "def check_vortex_data(dataloader):\n",
    "    set_seeds()\n",
    "    for j, (Xs, ys) in enumerate(dataloader):\n",
    "        assert Xs.shape == ys.shape\n",
    "        for i, (X, y) in enumerate(zip(Xs, ys)):\n",
    "            print(X.shape, y.shape)\n",
    "            assert X.shape == y.shape\n",
    "            X, y = X.numpy().squeeze(), y.numpy().squeeze()\n",
    "            ax = plt.subplot(121)\n",
    "            ax.imshow(X.transpose())\n",
    "            ax = plt.subplot(122)\n",
    "            ax.imshow(y.transpose())\n",
    "            plt.show()\n",
    "            if i >= 0:\n",
    "                break\n",
    "        if j + 1 >= 2:\n",
    "            break\n",
    "\n",
    "\n",
    "def check_velocity_data(dataloader):\n",
    "    set_seeds()\n",
    "    for j, (Xs, ys) in enumerate(dataloader):\n",
    "        assert Xs.shape == ys.shape\n",
    "        for i, (X, y) in enumerate(zip(Xs, ys)):\n",
    "            print(X.shape, y.shape)\n",
    "            assert X.shape == y.shape\n",
    "            X, y = X.numpy(), y.numpy()\n",
    "            ax = plt.subplot(221)\n",
    "            ax.imshow(X[0, :, :].transpose())\n",
    "            ax = plt.subplot(222)\n",
    "            ax.imshow(y[0, :, :].transpose())\n",
    "            ax = plt.subplot(223)\n",
    "            ax.imshow(X[1, :, :].transpose())\n",
    "            ax = plt.subplot(224)\n",
    "            ax.imshow(y[1, :, :].transpose())\n",
    "            plt.show()\n",
    "            if i >= 0:\n",
    "                break\n",
    "        if j + 1 >= 2:\n",
    "            break"
   ]
  },
  {
   "cell_type": "markdown",
   "id": "18ddad82-cdc1-4f67-be70-f56e867186a0",
   "metadata": {
    "tags": []
   },
   "source": [
    "# Check vorticity"
   ]
  },
  {
   "cell_type": "markdown",
   "id": "8b7f2b71-937d-4360-bd63-c59a431bbf05",
   "metadata": {},
   "source": [
    "## Spectral nudging"
   ]
  },
  {
   "cell_type": "code",
   "execution_count": null,
   "id": "e7747029-8816-4ee2-af09-6a953a6556df",
   "metadata": {},
   "outputs": [],
   "source": [
    "config_name = \"dscms_Z.yml\"\n",
    "config = read_yaml(f\"{CONFIG_DIR_NUDGE}/{config_name}\")"
   ]
  },
  {
   "cell_type": "code",
   "execution_count": null,
   "id": "c1435e88-97b0-4a25-866a-45ab9ef2ca8d",
   "metadata": {},
   "outputs": [],
   "source": [
    "dataloaders = make_vortex_dataloaders_for_barotropic_instability_spectral_nudging(\n",
    "    VORTICITY_DATA_DIR, config\n",
    ")"
   ]
  },
  {
   "cell_type": "code",
   "execution_count": null,
   "id": "6bba6365-5f20-4558-99ee-108c5dd05c9f",
   "metadata": {},
   "outputs": [],
   "source": [
    "logger.setLevel(INFO)\n",
    "# logger.setLevel(DEBUG)\n",
    "for data_kind in [\"train\", \"valid\", \"test\"]:\n",
    "    display(HTML(f\"<h3>{data_kind}</h3>\"))\n",
    "    check_vortex_data(dataloaders[data_kind])"
   ]
  },
  {
   "cell_type": "markdown",
   "id": "2e857eae-6fe1-41c2-816f-2d449fb84e15",
   "metadata": {},
   "source": [
    "## Average"
   ]
  },
  {
   "cell_type": "code",
   "execution_count": null,
   "id": "f99181e2-2dd9-4339-8d9d-e46c689ddb13",
   "metadata": {},
   "outputs": [],
   "source": [
    "config_name = \"dscms_Z.yml\"\n",
    "config = read_yaml(f\"{CONFIG_DIR_AVERAGE}/{config_name}\")"
   ]
  },
  {
   "cell_type": "code",
   "execution_count": null,
   "id": "4cfb4025-3f96-4c0e-b09f-408064172fe0",
   "metadata": {},
   "outputs": [],
   "source": [
    "dataloaders = make_vortex_dataloaders_for_barotropic_instability_spectral_nudging(\n",
    "    VORTICITY_DATA_DIR, config\n",
    ")"
   ]
  },
  {
   "cell_type": "code",
   "execution_count": null,
   "id": "539df1c5-02c1-4a1c-b3db-55b19464169e",
   "metadata": {},
   "outputs": [],
   "source": [
    "logger.setLevel(INFO)\n",
    "# logger.setLevel(DEBUG)\n",
    "for data_kind in [\"train\", \"valid\", \"test\"]:\n",
    "    display(HTML(f\"<h3>{data_kind}</h3>\"))\n",
    "    check_vortex_data(dataloaders[data_kind])"
   ]
  },
  {
   "cell_type": "markdown",
   "id": "52891f2f-0ad6-4d84-818b-e0ac490305a6",
   "metadata": {},
   "source": [
    "# Check velocity"
   ]
  },
  {
   "cell_type": "markdown",
   "id": "298f2147-4351-4462-8ebe-4e97318f90fe",
   "metadata": {},
   "source": [
    "## Spectral nudging"
   ]
  },
  {
   "cell_type": "code",
   "execution_count": null,
   "id": "1083f05f-a605-4314-8c2e-0ea35ed6f6fe",
   "metadata": {},
   "outputs": [],
   "source": [
    "config_name = \"dscms_V.yml\"\n",
    "config = read_yaml(f\"{CONFIG_DIR_NUDGE}/{config_name}\")"
   ]
  },
  {
   "cell_type": "code",
   "execution_count": null,
   "id": "39b34f41-0e13-45c5-a432-ab955dba3d05",
   "metadata": {},
   "outputs": [],
   "source": [
    "dataloaders = make_velocity_dataloaders_for_barotropic_instability_spectral_nudging(\n",
    "    VELOCITY_DATA_DIR, config\n",
    ")"
   ]
  },
  {
   "cell_type": "code",
   "execution_count": null,
   "id": "ae55a117-a592-4b5b-9b4d-29151f9fb6c7",
   "metadata": {},
   "outputs": [],
   "source": [
    "# logger.setLevel(DEBUG)\n",
    "logger.setLevel(INFO)\n",
    "for data_kind in [\"train\", \"valid\", \"test\"]:\n",
    "    display(HTML(f\"<h3>{data_kind}</h3>\"))\n",
    "    check_velocity_data(dataloaders[data_kind])"
   ]
  },
  {
   "cell_type": "markdown",
   "id": "817ac0d4-000b-4bbd-a16f-05e122d8fea9",
   "metadata": {},
   "source": [
    "## Average"
   ]
  },
  {
   "cell_type": "code",
   "execution_count": null,
   "id": "8c971e4f-d3d2-4005-9ff5-aafea51591df",
   "metadata": {},
   "outputs": [],
   "source": [
    "config_name = \"dscms_V.yml\"\n",
    "config = read_yaml(f\"{CONFIG_DIR_AVERAGE}/{config_name}\")"
   ]
  },
  {
   "cell_type": "code",
   "execution_count": null,
   "id": "8600ad03-f8a5-494c-9b0d-659d37745dce",
   "metadata": {},
   "outputs": [],
   "source": [
    "dataloaders = make_velocity_dataloaders_for_barotropic_instability_spectral_nudging(\n",
    "    VELOCITY_DATA_DIR, config\n",
    ")"
   ]
  },
  {
   "cell_type": "code",
   "execution_count": null,
   "id": "65b9ee18-1980-4181-b0a4-b707b4cfe79c",
   "metadata": {},
   "outputs": [],
   "source": [
    "# logger.setLevel(DEBUG)\n",
    "logger.setLevel(INFO)\n",
    "for data_kind in [\"train\", \"valid\", \"test\"]:\n",
    "    display(HTML(f\"<h3>{data_kind}</h3>\"))\n",
    "    check_velocity_data(dataloaders[data_kind])"
   ]
  },
  {
   "cell_type": "code",
   "execution_count": null,
   "id": "193eb586-8149-4cfc-83c9-196f32b31406",
   "metadata": {},
   "outputs": [],
   "source": []
  }
 ],
 "metadata": {
  "kernelspec": {
   "display_name": "Python 3 (ipykernel)",
   "language": "python",
   "name": "python3"
  },
  "language_info": {
   "codemirror_mode": {
    "name": "ipython",
    "version": 3
   },
   "file_extension": ".py",
   "mimetype": "text/x-python",
   "name": "python",
   "nbconvert_exporter": "python",
   "pygments_lexer": "ipython3",
   "version": "3.8.8"
  }
 },
 "nbformat": 4,
 "nbformat_minor": 5
}
