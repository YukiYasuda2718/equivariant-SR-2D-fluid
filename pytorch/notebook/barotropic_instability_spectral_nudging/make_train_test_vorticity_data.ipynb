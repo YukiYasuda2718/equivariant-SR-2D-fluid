{
 "cells": [
  {
   "cell_type": "code",
   "execution_count": null,
   "id": "3fb9c060-540e-4e89-88e8-18a265e77091",
   "metadata": {},
   "outputs": [],
   "source": [
    "%load_ext autoreload\n",
    "%autoreload 2\n",
    "%matplotlib inline"
   ]
  },
  {
   "cell_type": "code",
   "execution_count": null,
   "id": "a265f5f3-f167-45a2-a673-90afc70199f4",
   "metadata": {},
   "outputs": [],
   "source": [
    "import sys\n",
    "from logging import INFO, StreamHandler, getLogger\n",
    "\n",
    "logger = getLogger()\n",
    "log_handler = StreamHandler(sys.stdout)\n",
    "logger.addHandler(log_handler)\n",
    "logger.setLevel(INFO)"
   ]
  },
  {
   "cell_type": "markdown",
   "id": "da2c2e34-59aa-47df-ba2f-f4613b3977e8",
   "metadata": {},
   "source": [
    "# Import libraries"
   ]
  },
  {
   "cell_type": "code",
   "execution_count": null,
   "id": "2946830a-2800-4ed3-84de-2f6692df0cde",
   "metadata": {},
   "outputs": [],
   "source": [
    "import os\n",
    "from glob import glob\n",
    "from logging import INFO, StreamHandler, getLogger\n",
    "\n",
    "import matplotlib.pyplot as plt\n",
    "import numpy as np\n",
    "import pandas as pd\n",
    "from IPython.display import HTML, display\n",
    "from tqdm.notebook import tqdm\n",
    "\n",
    "ROOT_DIR = \"/workspace\"\n",
    "\n",
    "sys.path.append(f\"{ROOT_DIR}/pytorch/src\")\n",
    "from io_fortran_data import NX_T10, NX_T21, NX_T42, NY_T10, NY_T21, NY_T42, read_simulation_results"
   ]
  },
  {
   "cell_type": "markdown",
   "id": "9f275e43-2300-4b4b-b1a1-0043eb3df674",
   "metadata": {},
   "source": [
    "# Define constants"
   ]
  },
  {
   "cell_type": "code",
   "execution_count": null,
   "id": "412dd04f-30d8-47f3-ac8d-fa60c24aae82",
   "metadata": {},
   "outputs": [],
   "source": [
    "INPUT_DIR = f\"{ROOT_DIR}/data/fortran/barotropic_instability_spectral_nudging\"\n",
    "OUTPUT_DIR = f\"{ROOT_DIR}/data/pytorch/barotropic_instability_spectral_nudging/DL_data/vorticity\"\n",
    "\n",
    "DICT_DL_DATA_INFO = {\n",
    "    \"train_valid\": {\n",
    "        \"fortran_configs\": [\"default_positive\", \"default_negative\"],\n",
    "        \"time_start\": 250,\n",
    "        \"time_end\": 510,\n",
    "        \"time_interval\": 20,\n",
    "        \"train_size_ratio\": 0.7,\n",
    "    },\n",
    "    \"test\": {\n",
    "        \"fortran_configs\": [\"shear_with_0p40_positive\", \"shear_with_0p40_negative\"],\n",
    "        \"time_start\": 250,\n",
    "        \"time_end\": 510,\n",
    "        \"time_interval\": 20,\n",
    "    },\n",
    "}"
   ]
  },
  {
   "cell_type": "markdown",
   "id": "1cd3f356-8672-40e4-a425-8c846385f427",
   "metadata": {
    "tags": []
   },
   "source": [
    "# Split train-valid-test data"
   ]
  },
  {
   "cell_type": "code",
   "execution_count": null,
   "id": "4c298021-ca25-4780-b06e-27bedf643bf3",
   "metadata": {},
   "outputs": [],
   "source": [
    "for data_kind, data_info in DICT_DL_DATA_INFO.items():\n",
    "    for config_name in data_info[\"fortran_configs\"]:\n",
    "        _seeds = set()\n",
    "\n",
    "        all_file_paths = pd.Series(glob(f\"{INPUT_DIR}/{config_name}/*.dat\"))\n",
    "\n",
    "        all_seeds = (\n",
    "            all_file_paths.apply(\n",
    "                lambda x: os.path.basename(x).split(\"_\")[-1].replace(\"seed\", \"\").replace(\".dat\", \"\")\n",
    "            )\n",
    "            .drop_duplicates()\n",
    "            .astype(np.uint64)\n",
    "            .sort_values()\n",
    "            .to_list()\n",
    "        )\n",
    "        print(f\"{config_name} has {len(all_seeds)} simulation sets.\")\n",
    "\n",
    "        lst_data_kind = []\n",
    "        lst_used_seeds = []\n",
    "        if data_kind == \"train_valid\":\n",
    "            _n = int(len(all_seeds) * data_info[\"train_size_ratio\"])\n",
    "            lst_data_kind.append(\"train\")\n",
    "            lst_used_seeds.append(all_seeds[:_n])\n",
    "            lst_data_kind.append(\"valid\")\n",
    "            lst_used_seeds.append(all_seeds[_n:])\n",
    "        else:\n",
    "            lst_data_kind.append(data_kind)\n",
    "            lst_used_seeds.append(all_seeds)\n",
    "\n",
    "        for kind, seeds in zip(lst_data_kind, lst_used_seeds):\n",
    "            print(f\"{config_name} {kind}: num simulations = {len(seeds)}\")\n",
    "\n",
    "            for seed in tqdm(seeds):\n",
    "                assert seed not in _seeds\n",
    "                _seeds.add(seed)\n",
    "\n",
    "                (\n",
    "                    vortex_field_T10,\n",
    "                    vortex_field_T21,\n",
    "                    vortex_field_T42,\n",
    "                    _,\n",
    "                ) = read_simulation_results(INPUT_DIR, config_name, seed, use_T85_data=False)\n",
    "\n",
    "                dict_vortex_fields = {\n",
    "                    \"T10\": vortex_field_T10,\n",
    "                    \"T21\": vortex_field_T21,\n",
    "                    \"T42\": vortex_field_T42,\n",
    "                }\n",
    "\n",
    "                for resolution, Z in dict_vortex_fields.items():\n",
    "                    dir_path = os.path.join(OUTPUT_DIR, kind, resolution)\n",
    "                    os.makedirs(dir_path, exist_ok=True)\n",
    "\n",
    "                    for it in range(\n",
    "                        data_info[\"time_start\"],\n",
    "                        data_info[\"time_end\"] + data_info[\"time_interval\"],\n",
    "                        data_info[\"time_interval\"],\n",
    "                    ):\n",
    "                        z = Z[it, :, :]\n",
    "                        file_path = os.path.join(\n",
    "                            dir_path, f\"seed_{seed}_time_{it}_{config_name}.npy\"\n",
    "                        )\n",
    "                        np.save(file_path, z)\n",
    "        print(f\"Num _seeds = {len(_seeds)}\")\n",
    "        assert len(_seeds) == len(all_seeds)\n",
    "        print(\"\")"
   ]
  },
  {
   "cell_type": "markdown",
   "id": "3bb4dbea-322f-4928-b613-077fc9501075",
   "metadata": {},
   "source": [
    "# Check train-valid-test data"
   ]
  },
  {
   "cell_type": "code",
   "execution_count": null,
   "id": "017fa520-9fa8-443d-a574-c80432769236",
   "metadata": {},
   "outputs": [],
   "source": [
    "dict_grid_fields = {}\n",
    "\n",
    "xs = np.linspace(0, 2 * np.pi, NX_T10)\n",
    "ys = np.linspace(0, np.pi, NY_T10 + 1)\n",
    "dict_grid_fields[\"T10\"] = np.meshgrid(xs, ys, indexing=\"ij\")\n",
    "\n",
    "xs = np.linspace(0, 2 * np.pi, NX_T21)\n",
    "ys = np.linspace(0, np.pi, NY_T21 + 1)\n",
    "dict_grid_fields[\"T21\"] = np.meshgrid(xs, ys, indexing=\"ij\")\n",
    "\n",
    "xs = np.linspace(0, 2 * np.pi, NX_T42)\n",
    "ys = np.linspace(0, np.pi, NY_T42 + 1)\n",
    "dict_grid_fields[\"T42\"] = np.meshgrid(xs, ys, indexing=\"ij\")"
   ]
  },
  {
   "cell_type": "code",
   "execution_count": null,
   "id": "9e558256-b754-41ef-992b-e401c68f3e3e",
   "metadata": {},
   "outputs": [],
   "source": [
    "resolutions = [\"T10\", \"T21\", \"T42\"]\n",
    "\n",
    "ncols = 10\n",
    "nrows = len(resolutions)\n",
    "\n",
    "for data_kind in [\"train\", \"valid\", \"test\"]:\n",
    "    data_info = (\n",
    "        DICT_DL_DATA_INFO[\"test\"] if data_kind == \"test\" else DICT_DL_DATA_INFO[\"train_valid\"]\n",
    "    )\n",
    "    display(HTML(f\"<h2>{data_kind}</h2>\"))\n",
    "    print(\n",
    "        f'all file num = {len(glob(os.path.join(OUTPUT_DIR, data_kind, resolutions[0], \"*.npy\")))}'\n",
    "    )\n",
    "\n",
    "    all_seeds = (\n",
    "        pd.Series(glob(os.path.join(OUTPUT_DIR, data_kind, resolutions[0], \"*.npy\")))\n",
    "        .apply(lambda x: os.path.basename(x).split(\"_\")[1])\n",
    "        .drop_duplicates()\n",
    "        .sort_values()\n",
    "    )\n",
    "    seed = all_seeds[0]\n",
    "\n",
    "    for config_name in data_info[\"fortran_configs\"]:\n",
    "        display(HTML(f\"<h3>{config_name}</h3>\"))\n",
    "\n",
    "        for it_start in range(\n",
    "            data_info[\"time_start\"],\n",
    "            data_info[\"time_end\"] + data_info[\"time_interval\"],\n",
    "            data_info[\"time_interval\"] * ncols,\n",
    "        ):\n",
    "            fig, axes = plt.subplots(nrows, ncols, figsize=[25, 7])\n",
    "            for ax in np.ravel(axes):\n",
    "                ax.axis(\"off\")\n",
    "            for it, _axes in zip(\n",
    "                range(\n",
    "                    it_start,\n",
    "                    it_start + data_info[\"time_interval\"] * ncols,\n",
    "                    data_info[\"time_interval\"],\n",
    "                ),\n",
    "                axes.transpose(),\n",
    "            ):\n",
    "                if it > data_info[\"time_end\"]:\n",
    "                    break\n",
    "                for resolution, ax in zip(resolutions, _axes):\n",
    "                    X, Y = dict_grid_fields[resolution]\n",
    "                    Z = np.load(\n",
    "                        os.path.join(\n",
    "                            OUTPUT_DIR,\n",
    "                            data_kind,\n",
    "                            resolution,\n",
    "                            f\"seed_{seed}_time_{it}_{config_name}.npy\",\n",
    "                        )\n",
    "                    )\n",
    "                    # ax.contourf(X, Y, Z, cmap=\"rainbow\")\n",
    "                    ax.imshow(Z.transpose(), cmap=\"rainbow\", vmin=-2, vmax=2, interpolation=None)\n",
    "                    ax.set_title(f\"{resolution}, it = {it}\")\n",
    "            plt.tight_layout()\n",
    "            plt.show()"
   ]
  },
  {
   "cell_type": "code",
   "execution_count": null,
   "id": "9b580f05-ee98-479b-8a91-76b325c3bb68",
   "metadata": {},
   "outputs": [],
   "source": []
  }
 ],
 "metadata": {
  "kernelspec": {
   "display_name": "Python 3 (ipykernel)",
   "language": "python",
   "name": "python3"
  },
  "language_info": {
   "codemirror_mode": {
    "name": "ipython",
    "version": 3
   },
   "file_extension": ".py",
   "mimetype": "text/x-python",
   "name": "python",
   "nbconvert_exporter": "python",
   "pygments_lexer": "ipython3",
   "version": "3.8.8"
  }
 },
 "nbformat": 4,
 "nbformat_minor": 5
}
