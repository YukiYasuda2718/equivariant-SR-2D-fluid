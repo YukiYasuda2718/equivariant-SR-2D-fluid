{
 "cells": [
  {
   "cell_type": "code",
   "execution_count": null,
   "id": "a0bcfafe-6882-4552-be3c-94bce4016b5c",
   "metadata": {},
   "outputs": [],
   "source": [
    "%load_ext autoreload\n",
    "%autoreload 2\n",
    "%matplotlib inline"
   ]
  },
  {
   "cell_type": "code",
   "execution_count": null,
   "id": "90ac270c-d0e7-43c1-85e0-040f436bc89a",
   "metadata": {},
   "outputs": [],
   "source": [
    "import sys\n",
    "from logging import INFO, StreamHandler, getLogger\n",
    "\n",
    "logger = getLogger()\n",
    "log_handler = StreamHandler(sys.stdout)\n",
    "logger.addHandler(log_handler)\n",
    "logger.setLevel(INFO)"
   ]
  },
  {
   "cell_type": "markdown",
   "id": "e57891ef-4532-4732-8a96-3e6505611eae",
   "metadata": {},
   "source": [
    "# Import libraries"
   ]
  },
  {
   "cell_type": "code",
   "execution_count": null,
   "id": "abf3e96c-b93a-4171-89bc-22cf2887ff4a",
   "metadata": {},
   "outputs": [],
   "source": [
    "import matplotlib.pyplot as plt\n",
    "import torch\n",
    "import yaml\n",
    "from IPython.display import HTML, display\n",
    "\n",
    "ROOT_DIR = \"/workspace\"\n",
    "\n",
    "sys.path.append(f\"{ROOT_DIR}/pytorch/src\")\n",
    "from vortex_dataloader import make_vortex_dataloaders_for_decaying_turbulence"
   ]
  },
  {
   "cell_type": "markdown",
   "id": "28378d58-44c4-4821-b03a-e3bf87f1fd89",
   "metadata": {
    "tags": []
   },
   "source": [
    "# Plot dataset"
   ]
  },
  {
   "cell_type": "markdown",
   "id": "2727d360-9d1c-485d-b640-828388b2c139",
   "metadata": {},
   "source": [
    "## subsample"
   ]
  },
  {
   "cell_type": "code",
   "execution_count": null,
   "id": "8e1240be-0415-4906-9eee-1d00dc2ef90a",
   "metadata": {},
   "outputs": [],
   "source": [
    "CONFIG_PATH = f\"{ROOT_DIR}/pytorch/config/decaying_turbulence/subsample/dscms_scale09_Z.yml\"\n",
    "with open(CONFIG_PATH) as file:\n",
    "    CONFIG = yaml.safe_load(file)\n",
    "\n",
    "dict_dataloaders = make_vortex_dataloaders_for_decaying_turbulence(\n",
    "    data_dir=f\"{ROOT_DIR}/data/pytorch/decaying_turbulence/DL_data/vorticity\",\n",
    "    config=CONFIG,\n",
    "    num_workers=2,\n",
    "    seed=0,\n",
    ")"
   ]
  },
  {
   "cell_type": "code",
   "execution_count": null,
   "id": "14f59802-871f-4970-b3fd-099b86124a32",
   "metadata": {},
   "outputs": [],
   "source": [
    "NX, NY = 128, 128\n",
    "for kind, loader in dict_dataloaders.items():\n",
    "    display(HTML(f\"<h3>{kind}</h3>\"))\n",
    "    for Xs, ys in loader:\n",
    "        for i, (X, y) in enumerate(zip(Xs, ys)):\n",
    "            assert X.squeeze().shape == (NX, NY)\n",
    "            assert y.squeeze().shape == (NX, NY)\n",
    "            vmin, vmax = torch.min(y), torch.max(y)\n",
    "            ax = plt.subplot(121)\n",
    "            ax.imshow(X.numpy().squeeze(), vmin=vmin, vmax=vmax, interpolation=None)\n",
    "            ax = plt.subplot(122)\n",
    "            ax.imshow(y.numpy().squeeze(), vmin=vmin, vmax=vmax, interpolation=None)\n",
    "            plt.show()\n",
    "            if i + 1 >= 1:\n",
    "                break\n",
    "        break"
   ]
  },
  {
   "cell_type": "markdown",
   "id": "fcfbecc6-05c6-4698-b74b-e68071bc0e5b",
   "metadata": {},
   "source": [
    "## Average"
   ]
  },
  {
   "cell_type": "code",
   "execution_count": null,
   "id": "c033e0ea-3f6c-485a-8331-64be3fb7ccc2",
   "metadata": {},
   "outputs": [],
   "source": [
    "CONFIG_PATH = f\"{ROOT_DIR}/pytorch/config/decaying_turbulence/average/dscms_scale09_Z.yml\"\n",
    "with open(CONFIG_PATH) as file:\n",
    "    CONFIG = yaml.safe_load(file)\n",
    "\n",
    "dict_dataloaders = make_vortex_dataloaders_for_decaying_turbulence(\n",
    "    data_dir=f\"{ROOT_DIR}/data/pytorch/decaying_turbulence/DL_data/vorticity\",\n",
    "    config=CONFIG,\n",
    "    num_workers=2,\n",
    "    seed=0,\n",
    ")"
   ]
  },
  {
   "cell_type": "code",
   "execution_count": null,
   "id": "061427f1-f311-462d-bc26-6dff8e15864c",
   "metadata": {},
   "outputs": [],
   "source": [
    "NX, NY = 128, 128\n",
    "for kind, loader in dict_dataloaders.items():\n",
    "    display(HTML(f\"<h3>{kind}</h3>\"))\n",
    "    for Xs, ys in loader:\n",
    "        for i, (X, y) in enumerate(zip(Xs, ys)):\n",
    "            assert X.squeeze().shape == (NX, NY)\n",
    "            assert y.squeeze().shape == (NX, NY)\n",
    "            vmin, vmax = torch.min(y), torch.max(y)\n",
    "            ax = plt.subplot(121)\n",
    "            ax.imshow(X.numpy().squeeze(), vmin=vmin, vmax=vmax, interpolation=None)\n",
    "            ax = plt.subplot(122)\n",
    "            ax.imshow(y.numpy().squeeze(), vmin=vmin, vmax=vmax, interpolation=None)\n",
    "            plt.show()\n",
    "            if i + 1 >= 1:\n",
    "                break\n",
    "        break"
   ]
  }
 ],
 "metadata": {
  "kernelspec": {
   "display_name": "Python 3 (ipykernel)",
   "language": "python",
   "name": "python3"
  },
  "language_info": {
   "codemirror_mode": {
    "name": "ipython",
    "version": 3
   },
   "file_extension": ".py",
   "mimetype": "text/x-python",
   "name": "python",
   "nbconvert_exporter": "python",
   "pygments_lexer": "ipython3",
   "version": "3.8.8"
  }
 },
 "nbformat": 4,
 "nbformat_minor": 5
}
