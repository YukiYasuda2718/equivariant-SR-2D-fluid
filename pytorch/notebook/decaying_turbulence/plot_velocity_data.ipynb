{
 "cells": [
  {
   "cell_type": "code",
   "execution_count": null,
   "id": "a0bcfafe-6882-4552-be3c-94bce4016b5c",
   "metadata": {},
   "outputs": [],
   "source": [
    "%load_ext autoreload\n",
    "%autoreload 2\n",
    "%matplotlib inline"
   ]
  },
  {
   "cell_type": "code",
   "execution_count": null,
   "id": "90ac270c-d0e7-43c1-85e0-040f436bc89a",
   "metadata": {},
   "outputs": [],
   "source": [
    "import sys\n",
    "from logging import INFO, StreamHandler, getLogger\n",
    "\n",
    "logger = getLogger()\n",
    "log_handler = StreamHandler(sys.stdout)\n",
    "logger.addHandler(log_handler)\n",
    "logger.setLevel(INFO)"
   ]
  },
  {
   "cell_type": "markdown",
   "id": "e57891ef-4532-4732-8a96-3e6505611eae",
   "metadata": {},
   "source": [
    "# Import libraries"
   ]
  },
  {
   "cell_type": "code",
   "execution_count": null,
   "id": "abf3e96c-b93a-4171-89bc-22cf2887ff4a",
   "metadata": {},
   "outputs": [],
   "source": [
    "import matplotlib.pyplot as plt\n",
    "import torch\n",
    "import yaml\n",
    "from IPython.display import HTML, display\n",
    "\n",
    "ROOT_DIR = \"/workspace\"\n",
    "\n",
    "sys.path.append(f\"{ROOT_DIR}/pytorch/src\")\n",
    "from velocity_dataloader import make_velocity_dataloaders_for_decaying_turbulence"
   ]
  },
  {
   "cell_type": "markdown",
   "id": "2727d360-9d1c-485d-b640-828388b2c139",
   "metadata": {
    "tags": []
   },
   "source": [
    "# Plot dataset"
   ]
  },
  {
   "cell_type": "markdown",
   "id": "530b4394-75ec-48e6-9889-c3e969cc40ea",
   "metadata": {},
   "source": [
    "## Subsample"
   ]
  },
  {
   "cell_type": "code",
   "execution_count": null,
   "id": "8e1240be-0415-4906-9eee-1d00dc2ef90a",
   "metadata": {},
   "outputs": [],
   "source": [
    "CONFIG_PATH = f\"{ROOT_DIR}/pytorch/config/decaying_turbulence/subsample/dscms_scale09_V.yml\"\n",
    "with open(CONFIG_PATH) as file:\n",
    "    CONFIG = yaml.safe_load(file)\n",
    "\n",
    "dict_dataloaders = make_velocity_dataloaders_for_decaying_turbulence(\n",
    "    data_dir=f\"{ROOT_DIR}/data/pytorch/decaying_turbulence/DL_data/velocity\",\n",
    "    config=CONFIG,\n",
    "    num_workers=2,\n",
    "    seed=0,\n",
    ")"
   ]
  },
  {
   "cell_type": "code",
   "execution_count": null,
   "id": "14f59802-871f-4970-b3fd-099b86124a32",
   "metadata": {},
   "outputs": [],
   "source": [
    "NX, NY = 128, 128\n",
    "for kind, loader in dict_dataloaders.items():\n",
    "    display(HTML(f\"<h3>{kind}</h3>\"))\n",
    "    for Xs, ys in loader:\n",
    "        for j in range(2):\n",
    "            for i, (X, y) in enumerate(zip(Xs, ys)):\n",
    "                assert X.squeeze().shape == (2, NX, NY)\n",
    "                assert y.squeeze().shape == (2, NX, NY)\n",
    "                X, y = X[j, :, :], y[j, :, :]\n",
    "                vmin, vmax = torch.min(y), torch.max(y)\n",
    "                ax = plt.subplot(121)\n",
    "                ax.imshow(X.numpy().squeeze(), vmin=vmin, vmax=vmax, interpolation=None)\n",
    "                ax = plt.subplot(122)\n",
    "                ax.imshow(y.numpy().squeeze(), vmin=vmin, vmax=vmax, interpolation=None)\n",
    "                plt.show()\n",
    "                if i + 1 >= 1:\n",
    "                    break\n",
    "        break"
   ]
  },
  {
   "cell_type": "markdown",
   "id": "1aaa4d31-33c3-4b1c-9feb-e205e31cb967",
   "metadata": {},
   "source": [
    "## Average"
   ]
  },
  {
   "cell_type": "code",
   "execution_count": null,
   "id": "e9b8b516-d878-4d2c-86d0-26ec51e296b3",
   "metadata": {},
   "outputs": [],
   "source": [
    "CONFIG_PATH = f\"{ROOT_DIR}/pytorch/config/decaying_turbulence/average/dscms_scale09_V.yml\"\n",
    "with open(CONFIG_PATH) as file:\n",
    "    CONFIG = yaml.safe_load(file)\n",
    "\n",
    "dict_dataloaders = make_velocity_dataloaders_for_decaying_turbulence(\n",
    "    data_dir=f\"{ROOT_DIR}/data/pytorch/decaying_turbulence/DL_data/velocity\",\n",
    "    config=CONFIG,\n",
    "    num_workers=2,\n",
    "    seed=0,\n",
    ")"
   ]
  },
  {
   "cell_type": "code",
   "execution_count": null,
   "id": "4bdf9eb7-43f3-4ce2-9f6e-d2414e6c80be",
   "metadata": {},
   "outputs": [],
   "source": [
    "NX, NY = 128, 128\n",
    "for kind, loader in dict_dataloaders.items():\n",
    "    display(HTML(f\"<h3>{kind}</h3>\"))\n",
    "    for Xs, ys in loader:\n",
    "        for j in range(2):\n",
    "            for i, (X, y) in enumerate(zip(Xs, ys)):\n",
    "                assert X.squeeze().shape == (2, NX, NY)\n",
    "                assert y.squeeze().shape == (2, NX, NY)\n",
    "                X, y = X[j, :, :], y[j, :, :]\n",
    "                vmin, vmax = torch.min(y), torch.max(y)\n",
    "                ax = plt.subplot(121)\n",
    "                ax.imshow(X.numpy().squeeze(), vmin=vmin, vmax=vmax, interpolation=None)\n",
    "                ax = plt.subplot(122)\n",
    "                ax.imshow(y.numpy().squeeze(), vmin=vmin, vmax=vmax, interpolation=None)\n",
    "                plt.show()\n",
    "                if i + 1 >= 1:\n",
    "                    break\n",
    "        break"
   ]
  },
  {
   "cell_type": "code",
   "execution_count": null,
   "id": "42df0902-67e2-4b65-9cb0-7b1c8c5df18f",
   "metadata": {},
   "outputs": [],
   "source": []
  }
 ],
 "metadata": {
  "kernelspec": {
   "display_name": "Python 3 (ipykernel)",
   "language": "python",
   "name": "python3"
  },
  "language_info": {
   "codemirror_mode": {
    "name": "ipython",
    "version": 3
   },
   "file_extension": ".py",
   "mimetype": "text/x-python",
   "name": "python",
   "nbconvert_exporter": "python",
   "pygments_lexer": "ipython3",
   "version": "3.8.8"
  }
 },
 "nbformat": 4,
 "nbformat_minor": 5
}
